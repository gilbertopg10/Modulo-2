{
 "cells": [
  {
   "attachments": {},
   "cell_type": "markdown",
   "metadata": {},
   "source": [
    "Modulo 2 : Introducción a la ciencia de datos"
   ]
  },
  {
   "attachments": {},
   "cell_type": "markdown",
   "metadata": {},
   "source": [
    "La base de datos contiene datos de 44,691 peliculas con los siguientes rubros(columnas) aqui descritos:\n",
    "\n",
    "\n",
    "**id: El ID de la película (identificador único y claro).\n",
    "**title: El título oficial de la película.\n",
    "**tagline: El lema de la película.\n",
    "**release_date: La fecha de lanzamiento en cines de la película.\n",
    "**genres: Géneros asociados con la película.\n",
    "**belongs_to_collection: Proporciona información sobre la serie o franquicia a la que pertenece la película en particular.\n",
    "**original_language: El idioma en el que se filmó originalmente la película.\n",
    "**budget_musd: El presupuesto de la película en millones de dólares.\n",
    "**revenue_musd: Los ingresos totales de la película en millones de dólares.\n",
    "**production_companies: Compañías de producción involucradas en la realización de la película.\n",
    "**production_countries: Países donde se filmó o produjo la película.\n",
    "**vote_count: El número de votos de los usuarios, según lo contado por TMDB.\n",
    "**vote_average: El promedio de calificaciones de la película.\n",
    "**popularity: La puntuación de popularidad asignada por TMDB.\n",
    "**runtime: La duración de la película en minutos.\n",
    "**overview: Una breve descripción de la película.\n",
    "**spoken_languages: Idiomas hablados en la película.\n",
    "**poster_path: La URL de la imagen del póster.\n",
    "**cast: Actores (principales) que aparecen en la película.\n",
    "**cast_size: Número de actores que aparecen en la película.\n",
    "**director: Director de la película.\n",
    "**crew_size: Tamaño del equipo de producción (incluye al director, excluye a los actores)."
   ]
  },
  {
   "cell_type": "code",
   "execution_count": 24,
   "metadata": {},
   "outputs": [
    {
     "data": {
      "text/plain": [
       "(44691, 22)"
      ]
     },
     "execution_count": 24,
     "metadata": {},
     "output_type": "execute_result"
    }
   ],
   "source": [
    "import pandas as pd\n",
    "import numpy as np\n",
    "import matplotlib.pyplot as plt\n",
    "import seaborn  as sns\n",
    "\n",
    "pd.options.display.float_format = '{:.2f}'.format\n",
    "\n",
    "movies_df = pd.read_csv(\"movies_complete.csv\")\n",
    "\n",
    "movies_df.shape[:]\n"
   ]
  },
  {
   "cell_type": "code",
   "execution_count": 5,
   "metadata": {},
   "outputs": [
    {
     "data": {
      "text/html": [
       "<div>\n",
       "<style scoped>\n",
       "    .dataframe tbody tr th:only-of-type {\n",
       "        vertical-align: middle;\n",
       "    }\n",
       "\n",
       "    .dataframe tbody tr th {\n",
       "        vertical-align: top;\n",
       "    }\n",
       "\n",
       "    .dataframe thead th {\n",
       "        text-align: right;\n",
       "    }\n",
       "</style>\n",
       "<table border=\"1\" class=\"dataframe\">\n",
       "  <thead>\n",
       "    <tr style=\"text-align: right;\">\n",
       "      <th></th>\n",
       "      <th>Date of Release</th>\n",
       "      <th>Budget</th>\n",
       "      <th>Revenue</th>\n",
       "      <th>Votes</th>\n",
       "      <th>Rating</th>\n",
       "      <th>Popularity</th>\n",
       "      <th></th>\n",
       "      <th>Saga</th>\n",
       "      <th>Roi</th>\n",
       "      <th>Profit</th>\n",
       "    </tr>\n",
       "    <tr>\n",
       "      <th>Title</th>\n",
       "      <th></th>\n",
       "      <th></th>\n",
       "      <th></th>\n",
       "      <th></th>\n",
       "      <th></th>\n",
       "      <th></th>\n",
       "      <th></th>\n",
       "      <th></th>\n",
       "      <th></th>\n",
       "      <th></th>\n",
       "    </tr>\n",
       "  </thead>\n",
       "  <tbody>\n",
       "    <tr>\n",
       "      <th>Toy Story</th>\n",
       "      <td>1995-10-30</td>\n",
       "      <td>30.00</td>\n",
       "      <td>373.55</td>\n",
       "      <td>5415.00</td>\n",
       "      <td>7.70</td>\n",
       "      <td>21.95</td>\n",
       "      <td>&lt;img src='http://image.tmdb.org/t/p/w185//uXDf...</td>\n",
       "      <td>Toy Story Collection</td>\n",
       "      <td>12.45</td>\n",
       "      <td>343.55</td>\n",
       "    </tr>\n",
       "    <tr>\n",
       "      <th>Jumanji</th>\n",
       "      <td>1995-12-15</td>\n",
       "      <td>65.00</td>\n",
       "      <td>262.80</td>\n",
       "      <td>2413.00</td>\n",
       "      <td>6.90</td>\n",
       "      <td>17.02</td>\n",
       "      <td>&lt;img src='http://image.tmdb.org/t/p/w185//vgpX...</td>\n",
       "      <td>NaN</td>\n",
       "      <td>4.04</td>\n",
       "      <td>197.80</td>\n",
       "    </tr>\n",
       "    <tr>\n",
       "      <th>Grumpier Old Men</th>\n",
       "      <td>1995-12-22</td>\n",
       "      <td>NaN</td>\n",
       "      <td>NaN</td>\n",
       "      <td>92.00</td>\n",
       "      <td>6.50</td>\n",
       "      <td>11.71</td>\n",
       "      <td>&lt;img src='http://image.tmdb.org/t/p/w185//1FSX...</td>\n",
       "      <td>Grumpy Old Men Collection</td>\n",
       "      <td>NaN</td>\n",
       "      <td>NaN</td>\n",
       "    </tr>\n",
       "    <tr>\n",
       "      <th>Waiting to Exhale</th>\n",
       "      <td>1995-12-22</td>\n",
       "      <td>16.00</td>\n",
       "      <td>81.45</td>\n",
       "      <td>34.00</td>\n",
       "      <td>6.10</td>\n",
       "      <td>3.86</td>\n",
       "      <td>&lt;img src='http://image.tmdb.org/t/p/w185//4wjG...</td>\n",
       "      <td>NaN</td>\n",
       "      <td>5.09</td>\n",
       "      <td>65.45</td>\n",
       "    </tr>\n",
       "    <tr>\n",
       "      <th>Father of the Bride Part II</th>\n",
       "      <td>1995-02-10</td>\n",
       "      <td>NaN</td>\n",
       "      <td>76.58</td>\n",
       "      <td>173.00</td>\n",
       "      <td>5.70</td>\n",
       "      <td>8.39</td>\n",
       "      <td>&lt;img src='http://image.tmdb.org/t/p/w185//lf9R...</td>\n",
       "      <td>Father of the Bride Collection</td>\n",
       "      <td>NaN</td>\n",
       "      <td>NaN</td>\n",
       "    </tr>\n",
       "  </tbody>\n",
       "</table>\n",
       "</div>"
      ],
      "text/plain": [
       "                            Date of Release  Budget  Revenue   Votes  Rating  \\\n",
       "Title                                                                          \n",
       "Toy Story                        1995-10-30   30.00   373.55 5415.00    7.70   \n",
       "Jumanji                          1995-12-15   65.00   262.80 2413.00    6.90   \n",
       "Grumpier Old Men                 1995-12-22     NaN      NaN   92.00    6.50   \n",
       "Waiting to Exhale                1995-12-22   16.00    81.45   34.00    6.10   \n",
       "Father of the Bride Part II      1995-02-10     NaN    76.58  173.00    5.70   \n",
       "\n",
       "                             Popularity  \\\n",
       "Title                                     \n",
       "Toy Story                         21.95   \n",
       "Jumanji                           17.02   \n",
       "Grumpier Old Men                  11.71   \n",
       "Waiting to Exhale                  3.86   \n",
       "Father of the Bride Part II        8.39   \n",
       "\n",
       "                                                                                \\\n",
       "Title                                                                            \n",
       "Toy Story                    <img src='http://image.tmdb.org/t/p/w185//uXDf...   \n",
       "Jumanji                      <img src='http://image.tmdb.org/t/p/w185//vgpX...   \n",
       "Grumpier Old Men             <img src='http://image.tmdb.org/t/p/w185//1FSX...   \n",
       "Waiting to Exhale            <img src='http://image.tmdb.org/t/p/w185//4wjG...   \n",
       "Father of the Bride Part II  <img src='http://image.tmdb.org/t/p/w185//lf9R...   \n",
       "\n",
       "                                                       Saga   Roi  Profit  \n",
       "Title                                                                      \n",
       "Toy Story                              Toy Story Collection 12.45  343.55  \n",
       "Jumanji                                                 NaN  4.04  197.80  \n",
       "Grumpier Old Men                  Grumpy Old Men Collection   NaN     NaN  \n",
       "Waiting to Exhale                                       NaN  5.09   65.45  \n",
       "Father of the Bride Part II  Father of the Bride Collection   NaN     NaN  "
      ]
     },
     "execution_count": 5,
     "metadata": {},
     "output_type": "execute_result"
    }
   ],
   "source": [
    "movies_df = pd.read_csv(\"movies_complete.csv\", parse_dates= [\"release_date\"])\n",
    "\n",
    "mov_com = movies_df[[\"title\",\"release_date\",\"budget_musd\",\"revenue_musd\",\"vote_count\",\"vote_average\",\"popularity\",\"poster_path\",\"belongs_to_collection\"]].copy()\n",
    "\n",
    "mov_com[\"roi\"] = mov_com[\"revenue_musd\"]/ mov_com[\"budget_musd\"]\n",
    "\n",
    "mov_com[\"profit_gross\"] = mov_com[\"revenue_musd\"]- mov_com[\"budget_musd\"]\n",
    "\n",
    "mov_com.columns = [\"Title\", \"Date of Release\", \"Budget\", \"Revenue\", \n",
    "                   \"Votes\", \"Rating\",\"Popularity\",\"\",\"Saga\",\"Roi\", \"Profit\"]\n",
    "\n",
    "mov_com.set_index(\"Title\",inplace=True)\n",
    "\n",
    "mov_com.head()\n",
    "\n"
   ]
  },
  {
   "cell_type": "code",
   "execution_count": 6,
   "metadata": {},
   "outputs": [],
   "source": [
    "from IPython.display import HTML\n",
    "\n",
    "from IPython.display import display\n",
    "\n",
    "def tops(n, by, ascending=False, min_bud=0, min_votes=0):\n",
    "    df2 = mov_com[(mov_com[\"Budget\"] >= min_bud) & (mov_com[\"Votes\"] >= min_votes)].sort_values(by=by, ascending=ascending).head(n)\n",
    "    \"\"\"\n",
    "    La funcion tops devuelve una lista de \"n\" peliculas, agrupandolas con el criterio que se elija de las columnas contenidas\n",
    "    en el data frame mov_com parametro \"by\", si se desea buscar las menores en el ranking en cuanto algún criterio se \n",
    "    modifica el parametro \"ascending\" por True.\n",
    "\n",
    "    El parametro \"min_bud\" es para modificarse a criterio esto se refieren a sólo tomar en cuenta peliculas con un presupuesto\n",
    "    minimo, ya que hay producciones con presupuestos muy bajo que sesgan los resultados de su retorno o rentabilidad.\n",
    "\n",
    "    El parametro \"min_votes\" es para modificarse a criterio ya que hay producciones con poco numero de votos y esto afecta el promedio\n",
    "    del rating, es decir se podrían tomar en cuenta producciones que cuenten con 10 votos en adelante como ejemplo.\n",
    "\n",
    "    \"\"\"\n",
    "\n",
    "    return HTML(df2[[\"Date of Release\",\"\"]].to_html(escape=False))\n"
   ]
  },
  {
   "attachments": {},
   "cell_type": "markdown",
   "metadata": {},
   "source": [
    "Top 5 Mayor Presupuesto"
   ]
  },
  {
   "cell_type": "code",
   "execution_count": 7,
   "metadata": {},
   "outputs": [
    {
     "data": {
      "text/html": [
       "<table border=\"1\" class=\"dataframe\">\n",
       "  <thead>\n",
       "    <tr style=\"text-align: right;\">\n",
       "      <th></th>\n",
       "      <th>Date of Release</th>\n",
       "      <th></th>\n",
       "    </tr>\n",
       "    <tr>\n",
       "      <th>Title</th>\n",
       "      <th></th>\n",
       "      <th></th>\n",
       "    </tr>\n",
       "  </thead>\n",
       "  <tbody>\n",
       "    <tr>\n",
       "      <th>Pirates of the Caribbean: On Stranger Tides</th>\n",
       "      <td>2011-05-14</td>\n",
       "      <td><img src='http://image.tmdb.org/t/p/w185//keGfSvCmYj7CvdRx36OdVrAEibE.jpg' style='height:100px;'></td>\n",
       "    </tr>\n",
       "    <tr>\n",
       "      <th>Pirates of the Caribbean: At World's End</th>\n",
       "      <td>2007-05-19</td>\n",
       "      <td><img src='http://image.tmdb.org/t/p/w185//oVh3REsCwJwmrTkZ9OkkeKiAE02.jpg' style='height:100px;'></td>\n",
       "    </tr>\n",
       "    <tr>\n",
       "      <th>Avengers: Age of Ultron</th>\n",
       "      <td>2015-04-22</td>\n",
       "      <td><img src='http://image.tmdb.org/t/p/w185//4ssDuvEDkSArWEdyBl2X5EHvYKU.jpg' style='height:100px;'></td>\n",
       "    </tr>\n",
       "    <tr>\n",
       "      <th>Superman Returns</th>\n",
       "      <td>2006-06-28</td>\n",
       "      <td><img src='http://image.tmdb.org/t/p/w185//6ZYOpyhFZrAQIe1BuhqVgzfAdGZ.jpg' style='height:100px;'></td>\n",
       "    </tr>\n",
       "    <tr>\n",
       "      <th>John Carter</th>\n",
       "      <td>2012-03-07</td>\n",
       "      <td><img src='http://image.tmdb.org/t/p/w185//7GSSyUUgUEXm1rhmiPGSRuKoqnK.jpg' style='height:100px;'></td>\n",
       "    </tr>\n",
       "  </tbody>\n",
       "</table>"
      ],
      "text/plain": [
       "<IPython.core.display.HTML object>"
      ]
     },
     "execution_count": 7,
     "metadata": {},
     "output_type": "execute_result"
    }
   ],
   "source": [
    "tops(5,\"Budget\")"
   ]
  },
  {
   "attachments": {},
   "cell_type": "markdown",
   "metadata": {},
   "source": [
    "Top 5 más rentables"
   ]
  },
  {
   "cell_type": "code",
   "execution_count": 8,
   "metadata": {},
   "outputs": [
    {
     "data": {
      "text/html": [
       "<table border=\"1\" class=\"dataframe\">\n",
       "  <thead>\n",
       "    <tr style=\"text-align: right;\">\n",
       "      <th></th>\n",
       "      <th>Date of Release</th>\n",
       "      <th></th>\n",
       "    </tr>\n",
       "    <tr>\n",
       "      <th>Title</th>\n",
       "      <th></th>\n",
       "      <th></th>\n",
       "    </tr>\n",
       "  </thead>\n",
       "  <tbody>\n",
       "    <tr>\n",
       "      <th>Avatar</th>\n",
       "      <td>2009-12-10</td>\n",
       "      <td><img src='http://image.tmdb.org/t/p/w185//btnl50ZDJDSCal2NLQIYWw0XxvH.jpg' style='height:100px;'></td>\n",
       "    </tr>\n",
       "    <tr>\n",
       "      <th>Star Wars: The Force Awakens</th>\n",
       "      <td>2015-12-15</td>\n",
       "      <td><img src='http://image.tmdb.org/t/p/w185//9rd002JS49RwDW944fF1wjU8iTV.jpg' style='height:100px;'></td>\n",
       "    </tr>\n",
       "    <tr>\n",
       "      <th>Titanic</th>\n",
       "      <td>1997-11-18</td>\n",
       "      <td><img src='http://image.tmdb.org/t/p/w185//9xjZS2rlVxm8SFx8kPC3aIGCOYQ.jpg' style='height:100px;'></td>\n",
       "    </tr>\n",
       "    <tr>\n",
       "      <th>Jurassic World</th>\n",
       "      <td>2015-06-09</td>\n",
       "      <td><img src='http://image.tmdb.org/t/p/w185//rhr4y79GpxQF9IsfJItRXVaoGs4.jpg' style='height:100px;'></td>\n",
       "    </tr>\n",
       "    <tr>\n",
       "      <th>Furious 7</th>\n",
       "      <td>2015-04-01</td>\n",
       "      <td><img src='http://image.tmdb.org/t/p/w185//d9jZ2bKZw3ptTuxAyVHA6olPAVs.jpg' style='height:100px;'></td>\n",
       "    </tr>\n",
       "  </tbody>\n",
       "</table>"
      ],
      "text/plain": [
       "<IPython.core.display.HTML object>"
      ]
     },
     "execution_count": 8,
     "metadata": {},
     "output_type": "execute_result"
    }
   ],
   "source": [
    "tops(5,\"Profit\")"
   ]
  },
  {
   "attachments": {},
   "cell_type": "markdown",
   "metadata": {},
   "source": [
    "Top 5 menos rentables"
   ]
  },
  {
   "cell_type": "code",
   "execution_count": 9,
   "metadata": {},
   "outputs": [
    {
     "data": {
      "text/html": [
       "<table border=\"1\" class=\"dataframe\">\n",
       "  <thead>\n",
       "    <tr style=\"text-align: right;\">\n",
       "      <th></th>\n",
       "      <th>Date of Release</th>\n",
       "      <th></th>\n",
       "    </tr>\n",
       "    <tr>\n",
       "      <th>Title</th>\n",
       "      <th></th>\n",
       "      <th></th>\n",
       "    </tr>\n",
       "  </thead>\n",
       "  <tbody>\n",
       "    <tr>\n",
       "      <th>The Lone Ranger</th>\n",
       "      <td>2013-07-03</td>\n",
       "      <td><img src='http://image.tmdb.org/t/p/w185//b2je2ZybNIzAOL1K1WPbbT6zt2M.jpg' style='height:100px;'></td>\n",
       "    </tr>\n",
       "    <tr>\n",
       "      <th>The Alamo</th>\n",
       "      <td>2004-04-07</td>\n",
       "      <td><img src='http://image.tmdb.org/t/p/w185//aZrWYkxCCwSPKp4VjVvn46uHbIX.jpg' style='height:100px;'></td>\n",
       "    </tr>\n",
       "    <tr>\n",
       "      <th>Mars Needs Moms</th>\n",
       "      <td>2011-03-09</td>\n",
       "      <td><img src='http://image.tmdb.org/t/p/w185//lOKqLd0ud1wdwaPK5h6bGNZIVLT.jpg' style='height:100px;'></td>\n",
       "    </tr>\n",
       "    <tr>\n",
       "      <th>Valerian and the City of a Thousand Planets</th>\n",
       "      <td>2017-07-20</td>\n",
       "      <td><img src='http://image.tmdb.org/t/p/w185//jfIpMh79fGRqYJ6PwZLCntzgxlF.jpg' style='height:100px;'></td>\n",
       "    </tr>\n",
       "    <tr>\n",
       "      <th>The 13th Warrior</th>\n",
       "      <td>1999-08-27</td>\n",
       "      <td><img src='http://image.tmdb.org/t/p/w185//7pyhR5K1iv67daYw0DfsmsersKA.jpg' style='height:100px;'></td>\n",
       "    </tr>\n",
       "  </tbody>\n",
       "</table>"
      ],
      "text/plain": [
       "<IPython.core.display.HTML object>"
      ]
     },
     "execution_count": 9,
     "metadata": {},
     "output_type": "execute_result"
    }
   ],
   "source": [
    "tops(5,\"Profit\",ascending=True)"
   ]
  },
  {
   "attachments": {},
   "cell_type": "markdown",
   "metadata": {},
   "source": [
    "Top 5 Mejor retorno de inversión"
   ]
  },
  {
   "cell_type": "code",
   "execution_count": 10,
   "metadata": {},
   "outputs": [
    {
     "data": {
      "text/html": [
       "<table border=\"1\" class=\"dataframe\">\n",
       "  <thead>\n",
       "    <tr style=\"text-align: right;\">\n",
       "      <th></th>\n",
       "      <th>Date of Release</th>\n",
       "      <th></th>\n",
       "    </tr>\n",
       "    <tr>\n",
       "      <th>Title</th>\n",
       "      <th></th>\n",
       "      <th></th>\n",
       "    </tr>\n",
       "  </thead>\n",
       "  <tbody>\n",
       "    <tr>\n",
       "      <th>Less Than Zero</th>\n",
       "      <td>1987-11-06</td>\n",
       "      <td><img src='http://image.tmdb.org/t/p/w185//1GY0ZhAxOR2RgxGnOkeKoKb2mFM.jpg' style='height:100px;'></td>\n",
       "    </tr>\n",
       "    <tr>\n",
       "      <th>Modern Times</th>\n",
       "      <td>1936-02-05</td>\n",
       "      <td><img src='http://image.tmdb.org/t/p/w185//7uoiKOEjxBBW0AgDGQWrlfGQ90w.jpg' style='height:100px;'></td>\n",
       "    </tr>\n",
       "    <tr>\n",
       "      <th>Welcome to Dongmakgol</th>\n",
       "      <td>2005-08-04</td>\n",
       "      <td><img src='http://image.tmdb.org/t/p/w185//5iGVw8AdnUJ3xNaZ5iipfsv2e5.jpg' style='height:100px;'></td>\n",
       "    </tr>\n",
       "    <tr>\n",
       "      <th>Aquí Entre Nos</th>\n",
       "      <td>2012-03-30</td>\n",
       "      <td><img src='http://image.tmdb.org/t/p/w185//oflxxk94TjmjMdotXnajh64iMad.jpg' style='height:100px;'></td>\n",
       "    </tr>\n",
       "    <tr>\n",
       "      <th>The Karate Kid, Part II</th>\n",
       "      <td>1986-06-18</td>\n",
       "      <td><img src='http://image.tmdb.org/t/p/w185//mSne9mfUcL8QCGxF891LWa7lZNI.jpg' style='height:100px;'></td>\n",
       "    </tr>\n",
       "  </tbody>\n",
       "</table>"
      ],
      "text/plain": [
       "<IPython.core.display.HTML object>"
      ]
     },
     "execution_count": 10,
     "metadata": {},
     "output_type": "execute_result"
    }
   ],
   "source": [
    "tops(5,\"Roi\")\n"
   ]
  },
  {
   "attachments": {},
   "cell_type": "markdown",
   "metadata": {},
   "source": [
    "Top 5 peor Retorno de inversión"
   ]
  },
  {
   "cell_type": "code",
   "execution_count": 11,
   "metadata": {},
   "outputs": [
    {
     "data": {
      "text/html": [
       "<table border=\"1\" class=\"dataframe\">\n",
       "  <thead>\n",
       "    <tr style=\"text-align: right;\">\n",
       "      <th></th>\n",
       "      <th>Date of Release</th>\n",
       "      <th></th>\n",
       "    </tr>\n",
       "    <tr>\n",
       "      <th>Title</th>\n",
       "      <th></th>\n",
       "      <th></th>\n",
       "    </tr>\n",
       "  </thead>\n",
       "  <tbody>\n",
       "    <tr>\n",
       "      <th>Chasing Liberty</th>\n",
       "      <td>2004-01-09</td>\n",
       "      <td><img src='http://image.tmdb.org/t/p/w185//7qzvS9QKkiDcz1K8EY9Y6ZXkUeD.jpg' style='height:100px;'></td>\n",
       "    </tr>\n",
       "    <tr>\n",
       "      <th>The Cookout</th>\n",
       "      <td>2004-09-03</td>\n",
       "      <td><img src='http://image.tmdb.org/t/p/w185//eUVEPES8KhnXbTG3G74UZfVQRb7.jpg' style='height:100px;'></td>\n",
       "    </tr>\n",
       "    <tr>\n",
       "      <th>Never Talk to Strangers</th>\n",
       "      <td>1995-10-20</td>\n",
       "      <td><img src='http://image.tmdb.org/t/p/w185//IHZZLIxqF3ByEZV57RApvfh7uu.jpg' style='height:100px;'></td>\n",
       "    </tr>\n",
       "    <tr>\n",
       "      <th>To Rob a Thief</th>\n",
       "      <td>2007-08-31</td>\n",
       "      <td><img src='http://image.tmdb.org/t/p/w185//13mcl6dbOHlaxaJZH5IEYNFipig.jpg' style='height:100px;'></td>\n",
       "    </tr>\n",
       "    <tr>\n",
       "      <th>Deadfall</th>\n",
       "      <td>1993-10-08</td>\n",
       "      <td><img src='http://image.tmdb.org/t/p/w185//kgfvIzCG9PYjYfEtcIPuJpGiY9m.jpg' style='height:100px;'></td>\n",
       "    </tr>\n",
       "  </tbody>\n",
       "</table>"
      ],
      "text/plain": [
       "<IPython.core.display.HTML object>"
      ]
     },
     "execution_count": 11,
     "metadata": {},
     "output_type": "execute_result"
    }
   ],
   "source": [
    "tops(5,\"Roi\",ascending=True)"
   ]
  },
  {
   "attachments": {},
   "cell_type": "markdown",
   "metadata": {},
   "source": [
    "Top 5 con mas votos"
   ]
  },
  {
   "cell_type": "code",
   "execution_count": 12,
   "metadata": {},
   "outputs": [
    {
     "data": {
      "text/html": [
       "<table border=\"1\" class=\"dataframe\">\n",
       "  <thead>\n",
       "    <tr style=\"text-align: right;\">\n",
       "      <th></th>\n",
       "      <th>Date of Release</th>\n",
       "      <th></th>\n",
       "    </tr>\n",
       "    <tr>\n",
       "      <th>Title</th>\n",
       "      <th></th>\n",
       "      <th></th>\n",
       "    </tr>\n",
       "  </thead>\n",
       "  <tbody>\n",
       "    <tr>\n",
       "      <th>Inception</th>\n",
       "      <td>2010-07-14</td>\n",
       "      <td><img src='http://image.tmdb.org/t/p/w185//9gk7adHYeDvHkCSEqAvQNLV5Uge.jpg' style='height:100px;'></td>\n",
       "    </tr>\n",
       "    <tr>\n",
       "      <th>The Dark Knight</th>\n",
       "      <td>2008-07-16</td>\n",
       "      <td><img src='http://image.tmdb.org/t/p/w185//qJ2tW6WMUDux911r6m7haRef0WH.jpg' style='height:100px;'></td>\n",
       "    </tr>\n",
       "    <tr>\n",
       "      <th>Avatar</th>\n",
       "      <td>2009-12-10</td>\n",
       "      <td><img src='http://image.tmdb.org/t/p/w185//btnl50ZDJDSCal2NLQIYWw0XxvH.jpg' style='height:100px;'></td>\n",
       "    </tr>\n",
       "    <tr>\n",
       "      <th>The Avengers</th>\n",
       "      <td>2012-04-25</td>\n",
       "      <td><img src='http://image.tmdb.org/t/p/w185//RYMX2wcKCBAr24UyPD7xwmjaTn.jpg' style='height:100px;'></td>\n",
       "    </tr>\n",
       "    <tr>\n",
       "      <th>Deadpool</th>\n",
       "      <td>2016-02-09</td>\n",
       "      <td><img src='http://image.tmdb.org/t/p/w185//fSRb7vyIP8rQpL0I47P3qUsEKX3.jpg' style='height:100px;'></td>\n",
       "    </tr>\n",
       "  </tbody>\n",
       "</table>"
      ],
      "text/plain": [
       "<IPython.core.display.HTML object>"
      ]
     },
     "execution_count": 12,
     "metadata": {},
     "output_type": "execute_result"
    }
   ],
   "source": [
    "tops(5,\"Votes\")"
   ]
  },
  {
   "attachments": {},
   "cell_type": "markdown",
   "metadata": {},
   "source": [
    "Top 5 Mejores Calificadas"
   ]
  },
  {
   "cell_type": "code",
   "execution_count": 13,
   "metadata": {},
   "outputs": [
    {
     "data": {
      "text/html": [
       "<table border=\"1\" class=\"dataframe\">\n",
       "  <thead>\n",
       "    <tr style=\"text-align: right;\">\n",
       "      <th></th>\n",
       "      <th>Date of Release</th>\n",
       "      <th></th>\n",
       "    </tr>\n",
       "    <tr>\n",
       "      <th>Title</th>\n",
       "      <th></th>\n",
       "      <th></th>\n",
       "    </tr>\n",
       "  </thead>\n",
       "  <tbody>\n",
       "    <tr>\n",
       "      <th>Time Pass</th>\n",
       "      <td>2014-01-03</td>\n",
       "      <td><img src='http://image.tmdb.org/t/p/w185//eZXI0Od5sZXu1AhOSm4DhivbxkB.jpg' style='height:100px;'></td>\n",
       "    </tr>\n",
       "    <tr>\n",
       "      <th>Shuttlecock Boys</th>\n",
       "      <td>2012-08-02</td>\n",
       "      <td><img src='http://image.tmdb.org/t/p/w185//6anA57vPp9vU2nCGSHgaqGmWIzR.jpg' style='height:100px;'></td>\n",
       "    </tr>\n",
       "    <tr>\n",
       "      <th>Forever</th>\n",
       "      <td>2006-10-05</td>\n",
       "      <td><img src='http://image.tmdb.org/t/p/w185//lRdh2UqLGcSUDNR53pi5MjjIHk1.jpg' style='height:100px;'></td>\n",
       "    </tr>\n",
       "    <tr>\n",
       "      <th>Souls of Zen: Ancestors and Agency in Contemporary Japanese Temple Buddhism</th>\n",
       "      <td>2012-06-01</td>\n",
       "      <td><img src='http://image.tmdb.org/t/p/w185//rS8N0od43nCXmXJfUEV8MuFs3NL.jpg' style='height:100px;'></td>\n",
       "    </tr>\n",
       "    <tr>\n",
       "      <th>Elaine Stritch: At Liberty</th>\n",
       "      <td>2002-01-01</td>\n",
       "      <td><img src='http://image.tmdb.org/t/p/w185//9uoucM9yfmAYICtNMRHYxCVoWCO.jpg' style='height:100px;'></td>\n",
       "    </tr>\n",
       "  </tbody>\n",
       "</table>"
      ],
      "text/plain": [
       "<IPython.core.display.HTML object>"
      ]
     },
     "execution_count": 13,
     "metadata": {},
     "output_type": "execute_result"
    }
   ],
   "source": [
    "tops(5,\"Rating\")\n"
   ]
  },
  {
   "attachments": {},
   "cell_type": "markdown",
   "metadata": {},
   "source": [
    "Top 5 Peores Calificadas"
   ]
  },
  {
   "cell_type": "code",
   "execution_count": 14,
   "metadata": {},
   "outputs": [
    {
     "data": {
      "text/html": [
       "<table border=\"1\" class=\"dataframe\">\n",
       "  <thead>\n",
       "    <tr style=\"text-align: right;\">\n",
       "      <th></th>\n",
       "      <th>Date of Release</th>\n",
       "      <th></th>\n",
       "    </tr>\n",
       "    <tr>\n",
       "      <th>Title</th>\n",
       "      <th></th>\n",
       "      <th></th>\n",
       "    </tr>\n",
       "  </thead>\n",
       "  <tbody>\n",
       "    <tr>\n",
       "      <th>Extinction: Nature Has Evolved</th>\n",
       "      <td>2017-03-10</td>\n",
       "      <td><img src='http://image.tmdb.org/t/p/w185//13LTZkxrAkswx2eidHK06XbVH8n.jpg' style='height:100px;'></td>\n",
       "    </tr>\n",
       "    <tr>\n",
       "      <th>Roukli</th>\n",
       "      <td>2015-09-17</td>\n",
       "      <td><img src='http://image.tmdb.org/t/p/w185//tU0tvF3UWRrcrf6cUdbNadANvLy.jpg' style='height:100px;'></td>\n",
       "    </tr>\n",
       "    <tr>\n",
       "      <th>Joe and Max</th>\n",
       "      <td>2002-03-03</td>\n",
       "      <td><img src='http://image.tmdb.org/t/p/w185//1VerTaAVt8zdU0IqTLWJLO0ZwIo.jpg' style='height:100px;'></td>\n",
       "    </tr>\n",
       "    <tr>\n",
       "      <th>Call Me by Your Name</th>\n",
       "      <td>2017-10-27</td>\n",
       "      <td><img src='http://image.tmdb.org/t/p/w185//tcNniniS4rfqrLH0oORikJfnIwY.jpg' style='height:100px;'></td>\n",
       "    </tr>\n",
       "    <tr>\n",
       "      <th>Unrated II: Scary as Hell</th>\n",
       "      <td>2011-02-26</td>\n",
       "      <td><img src='http://image.tmdb.org/t/p/w185//l8NyL5MFzayw6gaZCsJYZkNASdk.jpg' style='height:100px;'></td>\n",
       "    </tr>\n",
       "  </tbody>\n",
       "</table>"
      ],
      "text/plain": [
       "<IPython.core.display.HTML object>"
      ]
     },
     "execution_count": 14,
     "metadata": {},
     "output_type": "execute_result"
    }
   ],
   "source": [
    "tops(5,\"Rating\",ascending=True)"
   ]
  },
  {
   "attachments": {},
   "cell_type": "markdown",
   "metadata": {},
   "source": [
    "Top 5 Mayor Popularidad"
   ]
  },
  {
   "cell_type": "code",
   "execution_count": 15,
   "metadata": {},
   "outputs": [
    {
     "data": {
      "text/html": [
       "<table border=\"1\" class=\"dataframe\">\n",
       "  <thead>\n",
       "    <tr style=\"text-align: right;\">\n",
       "      <th></th>\n",
       "      <th>Date of Release</th>\n",
       "      <th></th>\n",
       "    </tr>\n",
       "    <tr>\n",
       "      <th>Title</th>\n",
       "      <th></th>\n",
       "      <th></th>\n",
       "    </tr>\n",
       "  </thead>\n",
       "  <tbody>\n",
       "    <tr>\n",
       "      <th>Minions</th>\n",
       "      <td>2015-06-17</td>\n",
       "      <td><img src='http://image.tmdb.org/t/p/w185//tMaGZ2HR8HAFwkx4YRib0CDVfNT.jpg' style='height:100px;'></td>\n",
       "    </tr>\n",
       "    <tr>\n",
       "      <th>Wonder Woman</th>\n",
       "      <td>2017-05-30</td>\n",
       "      <td><img src='http://image.tmdb.org/t/p/w185//gfJGlDaHuWimErCr5Ql0I8x9QSy.jpg' style='height:100px;'></td>\n",
       "    </tr>\n",
       "    <tr>\n",
       "      <th>Beauty and the Beast</th>\n",
       "      <td>2017-03-16</td>\n",
       "      <td><img src='http://image.tmdb.org/t/p/w185//tWqifoYuwLETmmasnGHO7xBjEtt.jpg' style='height:100px;'></td>\n",
       "    </tr>\n",
       "    <tr>\n",
       "      <th>Baby Driver</th>\n",
       "      <td>2017-06-28</td>\n",
       "      <td><img src='http://image.tmdb.org/t/p/w185//rmnQ9jKW72bHu8uKlMjPIb2VLMI.jpg' style='height:100px;'></td>\n",
       "    </tr>\n",
       "    <tr>\n",
       "      <th>Big Hero 6</th>\n",
       "      <td>2014-10-24</td>\n",
       "      <td><img src='http://image.tmdb.org/t/p/w185//xozrGME58olN1xBhtxmjpOoY0jH.jpg' style='height:100px;'></td>\n",
       "    </tr>\n",
       "  </tbody>\n",
       "</table>"
      ],
      "text/plain": [
       "<IPython.core.display.HTML object>"
      ]
     },
     "execution_count": 15,
     "metadata": {},
     "output_type": "execute_result"
    }
   ],
   "source": [
    "tops(5,\"Popularity\")"
   ]
  },
  {
   "cell_type": "code",
   "execution_count": 19,
   "metadata": {},
   "outputs": [],
   "source": [
    "fran_single= movies_df[[\"title\",\"release_date\",\"budget_musd\",\"revenue_musd\",\"vote_count\",\"vote_average\",\"popularity\",\"poster_path\",\"belongs_to_collection\"]].copy()\n",
    "\n",
    "fran_single[\"roi\"] = fran_single[\"revenue_musd\"]/ fran_single[\"budget_musd\"]\n",
    "\n",
    "fran_single[\"profit_gross\"] = fran_single[\"revenue_musd\"]- fran_single[\"budget_musd\"]\n",
    "\n",
    "fran_single.columns = [\"Title\", \"Date of Release\", \"Budget\", \"Revenue\", \n",
    "                   \"Votes\", \"Rating\",\"Popularity\",\"\",\"Saga\",\"Roi\", \"Profit\"]\n",
    "\n",
    "fran_single.set_index(\"Title\",inplace=True)\n",
    "\n",
    "\n",
    "singles  = pd.isnull(fran_single['Saga'])\n",
    "\n",
    "franchises = pd.notna(fran_single[\"Saga\"])\n",
    "\n",
    "singles_dt  =  fran_single[singles]\n",
    "\n",
    "fran_dt = fran_single[franchises]\n",
    "\n",
    "\n",
    "def versus(by,n,mean=True):\n",
    "\n",
    "    if mean == True:\n",
    "        graf_singles = singles_dt.sort_values(by=by, ascending=False).head(n)\n",
    "\n",
    "        singles_x = np.mean(graf_singles[by])\n",
    "\n",
    "        graf_franchise = fran_dt.sort_values(by=by, ascending=False).head(n)\n",
    "\n",
    "        franchise_x = np.mean(graf_franchise[by])\n",
    "\n",
    "    else:    \n",
    "        graf_singles = singles_dt[singles_dt[\"Budget\"]>=5].sort_values(by=by, ascending=False).head(n)\n",
    "\n",
    "        singles_x = np.median(graf_singles[by])\n",
    "\n",
    "        graf_franchise = fran_dt[fran_dt[\"Budget\"]>=5].sort_values(by=by, ascending=False).head(n)\n",
    "\n",
    "        franchise_x = np.median(graf_franchise[by])\n",
    "    \"\"\"\n",
    "    La funcion versus devuelve una gráfica, comparando la media o mediana según se indique,agrupando los datos según el  parametro \"by\" este siendo\n",
    "    el nombre de una columa de los dataframes singles_dt o fran_dt.\n",
    "\n",
    "    El parametro \"n\" se modifica para disminuir o ampliar la selección de datos que se toman para el cálculo de la media o mediana según se indique.\n",
    "\n",
    "    El parametro \"mean\" se mantiene por default en True para obtener la media en el cálculo, al modificarse por \"False\" se utiliza la mediana\n",
    "    para el calculo.\n",
    "\n",
    "    \"\"\"\n",
    "\n",
    "\n",
    "    data = pd.DataFrame({'Category': ['Singles', 'Franchise'], 'Mean': [singles_x, franchise_x]})\n",
    "    sns.barplot(data=data, x='Category', y=\"Mean\",palette=\"terrain\")\n",
    "\n",
    "    plt.title(\"{} Top Singles vs {} Top Franchises\".format(n,n))\n",
    "    plt.xlabel(\"Type of Production\")\n",
    "    plt.ylabel(\"Mean of {}\".format(by))\n",
    "\n",
    "    return plt.show()"
   ]
  },
  {
   "cell_type": "code",
   "execution_count": null,
   "metadata": {
    "vscode": {
     "languageId": "latex"
    }
   },
   "outputs": [],
   "source": [
    "# # ¿Las sagas tienen mas éxito?"
   ]
  },
  {
   "attachments": {},
   "cell_type": "markdown",
   "metadata": {},
   "source": [
    "Saga vs. Sencilla : Ingreso promedio"
   ]
  },
  {
   "cell_type": "code",
   "execution_count": 20,
   "metadata": {},
   "outputs": [
    {
     "data": {
      "image/png": "[encoded data removed]",
      "text/plain": [
       "<Figure size 640x480 with 1 Axes>"
      ]
     },
     "metadata": {},
     "output_type": "display_data"
    }
   ],
   "source": [
    "versus(by=\"Revenue\",n = 10)\n"
   ]
  },
  {
   "attachments": {},
   "cell_type": "markdown",
   "metadata": {},
   "source": [
    "Saga vs. Sencilla: Roi Mediana"
   ]
  },
  {
   "cell_type": "code",
   "execution_count": 94,
   "metadata": {},
   "outputs": [
    {
     "data": {
      "image/png": "[encoded data removed]",
      "text/plain": [
       "<Figure size 640x480 with 1 Axes>"
      ]
     },
     "metadata": {},
     "output_type": "display_data"
    }
   ],
   "source": [
    "versus(by=\"Roi\",n = 10, mean = False)"
   ]
  },
  {
   "attachments": {},
   "cell_type": "markdown",
   "metadata": {},
   "source": [
    "Saga vs. Sencilla: Presupuesto promedio"
   ]
  },
  {
   "cell_type": "code",
   "execution_count": 95,
   "metadata": {},
   "outputs": [
    {
     "data": {
      "image/png": "[encoded data removed]",
      "text/plain": [
       "<Figure size 640x480 with 1 Axes>"
      ]
     },
     "metadata": {},
     "output_type": "display_data"
    }
   ],
   "source": [
    "versus(by=\"Budget\",n = 10)"
   ]
  },
  {
   "attachments": {},
   "cell_type": "markdown",
   "metadata": {},
   "source": [
    "Saga vs. Sencilla: Popularidad promedio"
   ]
  },
  {
   "cell_type": "code",
   "execution_count": 96,
   "metadata": {},
   "outputs": [
    {
     "data": {
      "image/png": "[encoded data removed]",
      "text/plain": [
       "<Figure size 640x480 with 1 Axes>"
      ]
     },
     "metadata": {},
     "output_type": "display_data"
    }
   ],
   "source": [
    "versus(by=\"Popularity\",n = 10)"
   ]
  },
  {
   "attachments": {},
   "cell_type": "markdown",
   "metadata": {},
   "source": [
    "Saga vs. Sencilla: Califiación Promedio"
   ]
  },
  {
   "cell_type": "code",
   "execution_count": 97,
   "metadata": {},
   "outputs": [
    {
     "data": {
      "image/png": "[encoded data removed]",
      "text/plain": [
       "<Figure size 640x480 with 1 Axes>"
      ]
     },
     "metadata": {},
     "output_type": "display_data"
    }
   ],
   "source": [
    "versus(by=\"Rating\",n = 10)"
   ]
  },
  {
   "attachments": {},
   "cell_type": "markdown",
   "metadata": {},
   "source": [
    "## Most Successful Franchises"
   ]
  },
  {
   "attachments": {},
   "cell_type": "markdown",
   "metadata": {},
   "source": [
    "5. __Find__ the __most successful Franchises__ in terms of"
   ]
  },
  {
   "cell_type": "code",
   "execution_count": 22,
   "metadata": {},
   "outputs": [],
   "source": [
    "\n",
    "def tops_franchises(n, by, mean=True):\n",
    "    if mean==True:\n",
    "        df1 = fran_dt.groupby(\"Saga\")[by].mean()\n",
    "        df2 = df1.sort_values(ascending=False).head(n)\n",
    "    else:\n",
    "        df1 = fran_dt.groupby(\"Saga\")[by].median()\n",
    "        df2 = df1.sort_values(ascending=False).head(n)\n",
    "   \n",
    "    return df2\n",
    "\n",
    "\n"
   ]
  },
  {
   "cell_type": "code",
   "execution_count": 36,
   "metadata": {},
   "outputs": [
    {
     "name": "stdout",
     "output_type": "stream",
     "text": [
      "Hay 4463 de peliculas pertenecientes a una franquicia\n"
     ]
    }
   ],
   "source": [
    "total_fran = fran_dt.shape[:]\n",
    "\n",
    "print(\"Hay {} de peliculas pertenecientes a una franquicia\".format(total_fran[0]))"
   ]
  },
  {
   "attachments": {},
   "cell_type": "markdown",
   "metadata": {},
   "source": [
    "Top 10 Sagas Presupuesto Promedio"
   ]
  },
  {
   "cell_type": "code",
   "execution_count": 84,
   "metadata": {},
   "outputs": [
    {
     "data": {
      "text/plain": [
       "Saga\n",
       "Tangled Collection                    260.00\n",
       "The Avengers Collection               250.00\n",
       "Pirates of the Caribbean Collection   250.00\n",
       "The Hobbit Collection                 250.00\n",
       "Man of Steel Collection               237.50\n",
       "Avatar Collection                     237.00\n",
       "The Amazing Spider-Man Collection     207.50\n",
       "World War Z Collection                200.00\n",
       "Spider-Man Collection                 199.00\n",
       "The Dark Knight Collection            195.00\n",
       "Name: Budget, dtype: float64"
      ]
     },
     "execution_count": 84,
     "metadata": {},
     "output_type": "execute_result"
    }
   ],
   "source": [
    "tops_franchises(10, \"Budget\", mean=True)"
   ]
  },
  {
   "attachments": {},
   "cell_type": "markdown",
   "metadata": {},
   "source": [
    "Top 10 Sagas Mediana de presupuesto"
   ]
  },
  {
   "cell_type": "code",
   "execution_count": 85,
   "metadata": {},
   "outputs": [
    {
     "data": {
      "text/plain": [
       "Saga\n",
       "Tangled Collection                    260.00\n",
       "The Avengers Collection               250.00\n",
       "The Hobbit Collection                 250.00\n",
       "Man of Steel Collection               237.50\n",
       "Avatar Collection                     237.00\n",
       "Pirates of the Caribbean Collection   230.00\n",
       "The Amazing Spider-Man Collection     207.50\n",
       "Iron Man Collection                   200.00\n",
       "Spider-Man Collection                 200.00\n",
       "World War Z Collection                200.00\n",
       "Name: Budget, dtype: float64"
      ]
     },
     "execution_count": 85,
     "metadata": {},
     "output_type": "execute_result"
    }
   ],
   "source": [
    "tops_franchises(10, \"Budget\", mean=False)"
   ]
  },
  {
   "attachments": {},
   "cell_type": "markdown",
   "metadata": {},
   "source": [
    "Top 10 Sagas Ingreso Promedio"
   ]
  },
  {
   "cell_type": "code",
   "execution_count": 86,
   "metadata": {},
   "outputs": [
    {
     "data": {
      "text/plain": [
       "Saga\n",
       "Avatar Collection                     2787.97\n",
       "The Avengers Collection               1462.48\n",
       "Frozen Collection                     1274.22\n",
       "Finding Nemo Collection                984.45\n",
       "The Hobbit Collection                  978.51\n",
       "The Lord of the Rings Collection       972.18\n",
       "Harry Potter Collection                963.42\n",
       "Star Wars Collection                   929.31\n",
       "Despicable Me Collection               922.77\n",
       "Pirates of the Caribbean Collection    904.32\n",
       "Name: Revenue, dtype: float64"
      ]
     },
     "execution_count": 86,
     "metadata": {},
     "output_type": "execute_result"
    }
   ],
   "source": [
    "tops_franchises(10, \"Revenue\", mean=True)"
   ]
  },
  {
   "attachments": {},
   "cell_type": "markdown",
   "metadata": {},
   "source": [
    "Top 10 Sagas Mediana de Ingreso"
   ]
  },
  {
   "cell_type": "code",
   "execution_count": 87,
   "metadata": {},
   "outputs": [
    {
     "data": {
      "text/plain": [
       "Saga\n",
       "Avatar Collection                     2787.97\n",
       "The Avengers Collection               1462.48\n",
       "Frozen Collection                     1274.22\n",
       "The Dark Knight Collection            1004.56\n",
       "Despicable Me Collection               995.41\n",
       "Finding Nemo Collection                984.45\n",
       "Pirates of the Caribbean Collection    961.00\n",
       "The Hobbit Collection                  958.40\n",
       "Harry Potter Collection                936.09\n",
       "The Lord of the Rings Collection       926.29\n",
       "Name: Revenue, dtype: float64"
      ]
     },
     "execution_count": 87,
     "metadata": {},
     "output_type": "execute_result"
    }
   ],
   "source": [
    "tops_franchises(10, \"Revenue\", mean=False)"
   ]
  },
  {
   "attachments": {},
   "cell_type": "markdown",
   "metadata": {},
   "source": [
    "Top 10 Sagas promedio de califación"
   ]
  },
  {
   "cell_type": "code",
   "execution_count": 23,
   "metadata": {},
   "outputs": [
    {
     "data": {
      "text/plain": [
       "Saga\n",
       "Argo Collection                       9.30\n",
       "Bloodfight                            9.00\n",
       "Kenji Misumi's Trilogy of the Sword   9.00\n",
       "Dreileben                             9.00\n",
       "Алиса в стране чудес (Коллекция)      8.70\n",
       "We Were Here                          8.65\n",
       "Kizumonogatari                        8.63\n",
       "Spirits' Homecoming Collection        8.50\n",
       "Glass Tiger collection                8.50\n",
       "OSS 117 The Original Saga             8.50\n",
       "Name: Rating, dtype: float64"
      ]
     },
     "execution_count": 23,
     "metadata": {},
     "output_type": "execute_result"
    }
   ],
   "source": [
    "tops_franchises(10, \"Rating\", mean=True)"
   ]
  }
 ],
 "metadata": {
  "kernelspec": {
   "display_name": "Python 3 (ipykernel)",
   "language": "python",
   "name": "python3"
  },
  "language_info": {
   "codemirror_mode": {
    "name": "ipython",
    "version": 3
   },
   "file_extension": ".py",
   "mimetype": "text/x-python",
   "name": "python",
   "nbconvert_exporter": "python",
   "pygments_lexer": "ipython3",
   "version": "3.10.11"
  }
 },
 "nbformat": 4,
 "nbformat_minor": 4
}
